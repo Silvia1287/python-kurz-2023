{
 "cells": [
  {
   "cell_type": "code",
   "execution_count": 1,
   "metadata": {},
   "outputs": [],
   "source": [
    "import pandas"
   ]
  },
  {
   "cell_type": "code",
   "execution_count": 2,
   "metadata": {},
   "outputs": [],
   "source": [
    "teploty = pandas.read_csv (\"temperature.csv\")"
   ]
  },
  {
   "cell_type": "code",
   "execution_count": 5,
   "metadata": {},
   "outputs": [
    {
     "name": "stdout",
     "output_type": "stream",
     "text": [
      "   Region  Country     City  Day  AvgTemperature\n",
      "0  Africa  Algeria  Algiers    1            62.0\n",
      "1  Africa  Algeria  Algiers    2            62.2\n",
      "2  Africa  Algeria  Algiers    3            65.7\n",
      "3  Africa  Algeria  Algiers    4            69.8\n",
      "4  Africa  Algeria  Algiers    5            63.8\n",
      "5  Africa  Algeria  Algiers    6            61.5\n",
      "6  Africa  Algeria  Algiers    7            56.2\n",
      "7  Africa  Algeria  Algiers    8            55.3\n",
      "8  Africa  Algeria  Algiers    9            52.6\n",
      "9  Africa  Algeria  Algiers   10            52.9\n"
     ]
    }
   ],
   "source": [
    "print(teploty.head(10))"
   ]
  },
  {
   "cell_type": "code",
   "execution_count": 6,
   "metadata": {},
   "outputs": [
    {
     "name": "stdout",
     "output_type": "stream",
     "text": [
      "     Country  AvgTemperature\n",
      "30     Benin            81.7\n",
      "31     Benin            81.8\n",
      "32     Benin            83.6\n",
      "33     Benin            83.4\n",
      "34     Benin            80.3\n",
      "...      ...             ...\n",
      "8011      US            80.8\n",
      "8012      US            81.1\n",
      "8015      US            80.5\n",
      "8042      US            80.2\n",
      "8074      US            80.1\n",
      "\n",
      "[722 rows x 2 columns]\n"
     ]
    }
   ],
   "source": [
    "vysoka_teplota = teploty[teploty[\"AvgTemperature\"] > 80]\n",
    "print(vysoka_teplota[[\"Country\", \"AvgTemperature\"]])"
   ]
  },
  {
   "cell_type": "code",
   "execution_count": 7,
   "metadata": {},
   "outputs": [
    {
     "name": "stdout",
     "output_type": "stream",
     "text": [
      "       Country  AvgTemperature\n",
      "1932   Albania            60.3\n",
      "2402     Italy            62.2\n",
      "2404     Italy            60.4\n",
      "2580  Portugal            62.5\n",
      "2581  Portugal            63.2\n",
      "2582  Portugal            61.1\n",
      "2583  Portugal            61.6\n",
      "2602  Portugal            64.2\n",
      "2603  Portugal            62.6\n",
      "2701     Spain            63.8\n",
      "2702     Spain            63.1\n",
      "2703     Spain            63.5\n",
      "2704     Spain            61.6\n",
      "2730     Spain            62.9\n",
      "2731     Spain            66.3\n",
      "2732     Spain            63.8\n",
      "2751     Spain            62.7\n",
      "2752     Spain            69.5\n",
      "2753     Spain            62.5\n"
     ]
    }
   ],
   "source": [
    "teplota_eu = teploty[(teploty[\"AvgTemperature\"] > 60) & (teploty[\"Region\"] == \"Europe\")]\n",
    "print(teplota_eu[[\"Country\", \"AvgTemperature\"]])"
   ]
  },
  {
   "cell_type": "code",
   "execution_count": 8,
   "metadata": {},
   "outputs": [
    {
     "name": "stdout",
     "output_type": "stream",
     "text": [
      "             Region Country             City  Day  AvgTemperature\n",
      "30           Africa   Benin          Cotonou    1            81.7\n",
      "31           Africa   Benin          Cotonou    2            81.8\n",
      "32           Africa   Benin          Cotonou    3            83.6\n",
      "33           Africa   Benin          Cotonou    4            83.4\n",
      "34           Africa   Benin          Cotonou    5            80.3\n",
      "...             ...     ...              ...  ...             ...\n",
      "8011  North America      US      Brownsville    2            80.8\n",
      "8012  North America      US      Brownsville    3            81.1\n",
      "8015  North America      US      Brownsville    6            80.5\n",
      "8042  North America      US   Corpus Christi    3            80.2\n",
      "8074  North America      US  Dallas Ft Worth    5            80.1\n",
      "\n",
      "[772 rows x 5 columns]\n"
     ]
    }
   ],
   "source": [
    "print(teploty[(teploty[\"AvgTemperature\"] > 80) | (teploty[\"AvgTemperature\"] < -20)])"
   ]
  },
  {
   "cell_type": "code",
   "execution_count": 1,
   "metadata": {},
   "outputs": [],
   "source": [
    "import pytemperature"
   ]
  },
  {
   "cell_type": "code",
   "execution_count": 12,
   "metadata": {},
   "outputs": [
    {
     "name": "stdout",
     "output_type": "stream",
     "text": [
      "             Region  Country      City  Day  AvgTemperature  \\\n",
      "0            Africa  Algeria   Algiers    1            62.0   \n",
      "1            Africa  Algeria   Algiers    2            62.2   \n",
      "2            Africa  Algeria   Algiers    3            65.7   \n",
      "3            Africa  Algeria   Algiers    4            69.8   \n",
      "4            Africa  Algeria   Algiers    5            63.8   \n",
      "...             ...      ...       ...  ...             ...   \n",
      "8785  North America       US  Cheyenne   26            51.7   \n",
      "8786  North America       US  Cheyenne   27            55.5   \n",
      "8787  North America       US  Cheyenne   28            38.5   \n",
      "8788  North America       US  Cheyenne   29            36.8   \n",
      "8789  North America       US  Cheyenne   30            36.9   \n",
      "\n",
      "      AvgTemperatureCelsia  \n",
      "0                    16.67  \n",
      "1                    16.78  \n",
      "2                    18.72  \n",
      "3                    21.00  \n",
      "4                    17.67  \n",
      "...                    ...  \n",
      "8785                 10.94  \n",
      "8786                 13.06  \n",
      "8787                  3.61  \n",
      "8788                  2.67  \n",
      "8789                  2.72  \n",
      "\n",
      "[8790 rows x 6 columns]\n"
     ]
    }
   ],
   "source": [
    "teploty[\"AvgTemperatureCelsia\"] = pytemperature.f2c(teploty[\"AvgTemperature\"])\n",
    "print (teploty)"
   ]
  },
  {
   "attachments": {},
   "cell_type": "markdown",
   "metadata": {},
   "source": [
    "BONUS č. 1"
   ]
  },
  {
   "cell_type": "code",
   "execution_count": 4,
   "metadata": {},
   "outputs": [
    {
     "name": "stdout",
     "output_type": "stream",
     "text": [
      "             Region  Country      City  Day  AvgTemperature  \\\n",
      "0            Africa  Algeria   Algiers    1            62.0   \n",
      "1            Africa  Algeria   Algiers    2            62.2   \n",
      "2            Africa  Algeria   Algiers    3            65.7   \n",
      "3            Africa  Algeria   Algiers    4            69.8   \n",
      "4            Africa  Algeria   Algiers    5            63.8   \n",
      "...             ...      ...       ...  ...             ...   \n",
      "8785  North America       US  Cheyenne   26            51.7   \n",
      "8786  North America       US  Cheyenne   27            55.5   \n",
      "8787  North America       US  Cheyenne   28            38.5   \n",
      "8788  North America       US  Cheyenne   29            36.8   \n",
      "8789  North America       US  Cheyenne   30            36.9   \n",
      "\n",
      "      AvgTemperatureCelsia  \n",
      "0                    16.67  \n",
      "1                    16.78  \n",
      "2                    18.72  \n",
      "3                    21.00  \n",
      "4                    17.67  \n",
      "...                    ...  \n",
      "8785                 10.94  \n",
      "8786                 13.06  \n",
      "8787                  3.61  \n",
      "8788                  2.67  \n",
      "8789                  2.72  \n",
      "\n",
      "[8790 rows x 6 columns]\n"
     ]
    }
   ],
   "source": [
    "import pytemperature\n",
    "\n",
    "teploty[\"AvgTemperatureCelsia\"] = pytemperature.f2c(teploty[\"AvgTemperature\"])\n",
    "print(teploty)"
   ]
  },
  {
   "attachments": {},
   "cell_type": "markdown",
   "metadata": {},
   "source": [
    "Teplota vyššia ako 30°C"
   ]
  },
  {
   "cell_type": "code",
   "execution_count": 6,
   "metadata": {},
   "outputs": [
    {
     "name": "stdout",
     "output_type": "stream",
     "text": [
      "                                 Region     Country             City  Day  \\\n",
      "421                              Africa  Mauritania       Nouakchott    2   \n",
      "430                              Africa  Mauritania       Nouakchott   11   \n",
      "510                              Africa     Nigeria           Niamey    1   \n",
      "526                              Africa     Nigeria           Niamey   17   \n",
      "527                              Africa     Nigeria           Niamey   18   \n",
      "528                              Africa     Nigeria           Niamey   19   \n",
      "930                                Asia       India  Bombay (Mumbai)    1   \n",
      "931                                Asia       India  Bombay (Mumbai)    2   \n",
      "935                                Asia       India  Bombay (Mumbai)    6   \n",
      "1247                               Asia        Laos        Vientiane   18   \n",
      "3990  South/Central America & Carribean       Haiti   Port au Prince    1   \n",
      "4111  South/Central America & Carribean    Suriname       Paramaribo    2   \n",
      "\n",
      "      AvgTemperature  AvgTemperatureCelsia  \n",
      "421             87.4                 30.78  \n",
      "430             87.1                 30.61  \n",
      "510             86.9                 30.50  \n",
      "526             86.3                 30.17  \n",
      "527             86.6                 30.33  \n",
      "528             86.6                 30.33  \n",
      "930             86.6                 30.33  \n",
      "931             86.4                 30.22  \n",
      "935             86.8                 30.44  \n",
      "1247            86.3                 30.17  \n",
      "3990            86.1                 30.06  \n",
      "4111            88.0                 31.11  \n"
     ]
    }
   ],
   "source": [
    "nad_30_C = teploty[teploty[\"AvgTemperatureCelsia\"] > 30]\n",
    "print(nad_30_C)"
   ]
  },
  {
   "attachments": {},
   "cell_type": "markdown",
   "metadata": {},
   "source": [
    "Vyššia ako 15°C v regióne Europa"
   ]
  },
  {
   "cell_type": "code",
   "execution_count": 7,
   "metadata": {},
   "outputs": [
    {
     "name": "stdout",
     "output_type": "stream",
     "text": [
      "      Region  AvgTemperatureCelsia\n",
      "1932  Europe                 15.72\n",
      "2221  Europe                 15.11\n",
      "2402  Europe                 16.78\n",
      "2404  Europe                 15.78\n",
      "2424  Europe                 15.17\n",
      "2580  Europe                 16.94\n",
      "2581  Europe                 17.33\n",
      "2582  Europe                 16.17\n",
      "2583  Europe                 16.44\n",
      "2590  Europe                 15.06\n",
      "2592  Europe                 15.17\n",
      "2602  Europe                 17.89\n",
      "2603  Europe                 17.00\n",
      "2700  Europe                 15.06\n",
      "2701  Europe                 17.67\n",
      "2702  Europe                 17.28\n",
      "2703  Europe                 17.50\n",
      "2704  Europe                 16.44\n",
      "2730  Europe                 17.17\n",
      "2731  Europe                 19.06\n",
      "2732  Europe                 17.67\n",
      "2751  Europe                 17.06\n",
      "2752  Europe                 20.83\n",
      "2753  Europe                 16.94\n"
     ]
    }
   ],
   "source": [
    "teplota_nad_15_eu = teploty[(teploty[\"AvgTemperatureCelsia\"] > 15) & (teploty[\"Region\"] == \"Europe\")]\n",
    "print(teplota_nad_15_eu[[\"Region\", \"AvgTemperatureCelsia\"]])"
   ]
  },
  {
   "attachments": {},
   "cell_type": "markdown",
   "metadata": {},
   "source": [
    "Viac ako 30°C a menej ako -10°C"
   ]
  },
  {
   "cell_type": "code",
   "execution_count": 8,
   "metadata": {},
   "outputs": [
    {
     "name": "stdout",
     "output_type": "stream",
     "text": [
      "             Region   Country         City  Day  AvgTemperature  \\\n",
      "168          Africa  Ethiopia  Addis Ababa   19           -99.0   \n",
      "212          Africa    Gambia       Banjul    3           -99.0   \n",
      "213          Africa    Gambia       Banjul    4           -99.0   \n",
      "214          Africa    Gambia       Banjul    5           -99.0   \n",
      "215          Africa    Gambia       Banjul    6           -99.0   \n",
      "...             ...       ...          ...  ...             ...   \n",
      "6455  North America        US  Great Falls    6             7.5   \n",
      "6485  North America        US       Helena    6            13.1   \n",
      "6486  North America        US       Helena    7             8.7   \n",
      "7088  North America        US        Fargo    9            12.7   \n",
      "7089  North America        US        Fargo   10            13.1   \n",
      "\n",
      "      AvgTemperatureCelsia  \n",
      "168                 -72.78  \n",
      "212                 -72.78  \n",
      "213                 -72.78  \n",
      "214                 -72.78  \n",
      "215                 -72.78  \n",
      "...                    ...  \n",
      "6455                -13.61  \n",
      "6485                -10.50  \n",
      "6486                -12.94  \n",
      "7088                -10.72  \n",
      "7089                -10.50  \n",
      "\n",
      "[127 rows x 6 columns]\n"
     ]
    }
   ],
   "source": [
    "print(teploty[(teploty[\"AvgTemperatureCelsia\"] > 30) | (teploty[\"AvgTemperatureCelsia\"] < -10)])"
   ]
  }
 ],
 "metadata": {
  "kernelspec": {
   "display_name": "Python 3",
   "language": "python",
   "name": "python3"
  },
  "language_info": {
   "codemirror_mode": {
    "name": "ipython",
    "version": 3
   },
   "file_extension": ".py",
   "mimetype": "text/x-python",
   "name": "python",
   "nbconvert_exporter": "python",
   "pygments_lexer": "ipython3",
   "version": "3.11.1"
  },
  "orig_nbformat": 4
 },
 "nbformat": 4,
 "nbformat_minor": 2
}
