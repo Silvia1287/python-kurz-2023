{
 "cells": [
  {
   "cell_type": "code",
   "execution_count": 4,
   "metadata": {},
   "outputs": [],
   "source": [
    "import pandas"
   ]
  },
  {
   "cell_type": "code",
   "execution_count": 5,
   "metadata": {},
   "outputs": [],
   "source": [
    "teploty = pandas.read_csv (\"temperature.csv\")"
   ]
  },
  {
   "cell_type": "code",
   "execution_count": 3,
   "metadata": {},
   "outputs": [
    {
     "name": "stdout",
     "output_type": "stream",
     "text": [
      "   Region  Country     City  Day  AvgTemperature\n",
      "0  Africa  Algeria  Algiers    1            62.0\n",
      "1  Africa  Algeria  Algiers    2            62.2\n",
      "2  Africa  Algeria  Algiers    3            65.7\n",
      "3  Africa  Algeria  Algiers    4            69.8\n",
      "4  Africa  Algeria  Algiers    5            63.8\n",
      "5  Africa  Algeria  Algiers    6            61.5\n",
      "6  Africa  Algeria  Algiers    7            56.2\n",
      "7  Africa  Algeria  Algiers    8            55.3\n",
      "8  Africa  Algeria  Algiers    9            52.6\n",
      "9  Africa  Algeria  Algiers   10            52.9\n"
     ]
    }
   ],
   "source": [
    "print(teploty.head(10))"
   ]
  },
  {
   "cell_type": "code",
   "execution_count": 9,
   "metadata": {},
   "outputs": [
    {
     "name": "stdout",
     "output_type": "stream",
     "text": [
      "     Country  AvgTemperature\n",
      "30     Benin            81.7\n",
      "31     Benin            81.8\n",
      "32     Benin            83.6\n",
      "33     Benin            83.4\n",
      "34     Benin            80.3\n",
      "...      ...             ...\n",
      "8011      US            80.8\n",
      "8012      US            81.1\n",
      "8015      US            80.5\n",
      "8042      US            80.2\n",
      "8074      US            80.1\n",
      "\n",
      "[722 rows x 2 columns]\n"
     ]
    }
   ],
   "source": [
    "vysoka_teplota = teploty[teploty[\"AvgTemperature\"] > 80]\n",
    "print(vysoka_teplota[[\"Country\", \"AvgTemperature\"]])"
   ]
  },
  {
   "cell_type": "code",
   "execution_count": 24,
   "metadata": {},
   "outputs": [
    {
     "name": "stdout",
     "output_type": "stream",
     "text": [
      "       Country  AvgTemperature\n",
      "1932   Albania            60.3\n",
      "2402     Italy            62.2\n",
      "2404     Italy            60.4\n",
      "2580  Portugal            62.5\n",
      "2581  Portugal            63.2\n",
      "2582  Portugal            61.1\n",
      "2583  Portugal            61.6\n",
      "2602  Portugal            64.2\n",
      "2603  Portugal            62.6\n",
      "2701     Spain            63.8\n",
      "2702     Spain            63.1\n",
      "2703     Spain            63.5\n",
      "2704     Spain            61.6\n",
      "2730     Spain            62.9\n",
      "2731     Spain            66.3\n",
      "2732     Spain            63.8\n",
      "2751     Spain            62.7\n",
      "2752     Spain            69.5\n",
      "2753     Spain            62.5\n"
     ]
    }
   ],
   "source": [
    "teplota_eu = teploty[(teploty[\"AvgTemperature\"] > 60) & (teploty[\"Region\"] == \"Europe\")]\n",
    "print(teplota_eu[[\"Country\", \"AvgTemperature\"]])"
   ]
  },
  {
   "cell_type": "code",
   "execution_count": 6,
   "metadata": {},
   "outputs": [
    {
     "name": "stdout",
     "output_type": "stream",
     "text": [
      "             Region Country             City  Day  AvgTemperature\n",
      "30           Africa   Benin          Cotonou    1            81.7\n",
      "31           Africa   Benin          Cotonou    2            81.8\n",
      "32           Africa   Benin          Cotonou    3            83.6\n",
      "33           Africa   Benin          Cotonou    4            83.4\n",
      "34           Africa   Benin          Cotonou    5            80.3\n",
      "...             ...     ...              ...  ...             ...\n",
      "8011  North America      US      Brownsville    2            80.8\n",
      "8012  North America      US      Brownsville    3            81.1\n",
      "8015  North America      US      Brownsville    6            80.5\n",
      "8042  North America      US   Corpus Christi    3            80.2\n",
      "8074  North America      US  Dallas Ft Worth    5            80.1\n",
      "\n",
      "[772 rows x 5 columns]\n"
     ]
    }
   ],
   "source": [
    "print(teploty[(teploty[\"AvgTemperature\"] > 80) | (teploty[\"AvgTemperature\"] < -20)])"
   ]
  }
 ],
 "metadata": {
  "kernelspec": {
   "display_name": "Python 3",
   "language": "python",
   "name": "python3"
  },
  "language_info": {
   "codemirror_mode": {
    "name": "ipython",
    "version": 3
   },
   "file_extension": ".py",
   "mimetype": "text/x-python",
   "name": "python",
   "nbconvert_exporter": "python",
   "pygments_lexer": "ipython3",
   "version": "3.11.1"
  },
  "orig_nbformat": 4
 },
 "nbformat": 4,
 "nbformat_minor": 2
}
